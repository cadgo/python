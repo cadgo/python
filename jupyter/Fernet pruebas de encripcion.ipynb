{
 "cells": [
  {
   "cell_type": "markdown",
   "metadata": {},
   "source": [
    "# Fernet pruebas de encripcion"
   ]
  },
  {
   "cell_type": "markdown",
   "metadata": {},
   "source": [
    "https://docs.python-guide.org/scenarios/crypto/\n",
    "https://cryptography.io/en/latest/fernet/\n",
    "https://www.datadoctor.biz/data_recovery_programming_book_chapter14-page2.html\n"
   ]
  },
  {
   "cell_type": "code",
   "execution_count": 1,
   "metadata": {},
   "outputs": [
    {
     "name": "stdout",
     "output_type": "stream",
     "text": [
      "b'UU4OdUhPFurRpDBhxvWq-nGaK3MhEuwopuAb7hYHoZ8='\n"
     ]
    }
   ],
   "source": [
    "from cryptography.fernet import Fernet\n",
    "import io, os\n",
    "key = Fernet.generate_key()\n",
    "print(key)\n",
    "file_h=b\"\\x50\\x4B\\x03\\x29\"\n",
    "file_e=b\"\\x29\\x50\\x4B\\x03\"\n",
    "NF=4092"
   ]
  },
  {
   "cell_type": "code",
   "execution_count": 2,
   "metadata": {},
   "outputs": [
    {
     "name": "stdout",
     "output_type": "stream",
     "text": [
      "b'gAAAAABeXHed0dIgdgKKBjn_wZPpVXgkB_Csj6X2kKI2MGTCfviefNPr1blgDm49mxIAv0a0dY7dXD44t2pC5P8as_JH459XXdsP04ubW6mNwJg6ZnB1mWKO54PvPZ3uBMeFkqDxkDld'\n"
     ]
    }
   ],
   "source": [
    "cipher_suite = Fernet(key)\n",
    "cipher_text = cipher_suite.encrypt(b\"A really secret message. Not for prying eyes.\")\n",
    "print(cipher_text)"
   ]
  },
  {
   "cell_type": "code",
   "execution_count": 3,
   "metadata": {},
   "outputs": [
    {
     "name": "stdout",
     "output_type": "stream",
     "text": [
      "8192\n"
     ]
    }
   ],
   "source": [
    "inputfile=\"cyber-security-report-2020.pdf\"\n",
    "outputfile=\"encfile.enc\"\n",
    "print(io.DEFAULT_BUFFER_SIZE)"
   ]
  },
  {
   "cell_type": "markdown",
   "metadata": {},
   "source": [
    "Verificamos el tamaño del archivo si este es menor io.DEFAULT_BUFFER_SIZE ciframos de un jalo si no ir cifrando por pedasos"
   ]
  },
  {
   "cell_type": "code",
   "execution_count": 4,
   "metadata": {},
   "outputs": [],
   "source": [
    "def EncFunction(file, encfile):\n",
    "    cipherdata = None\n",
    "    B= 0\n",
    "    try:\n",
    "        print(file)\n",
    "        filesize = os.path.getsize(file)\n",
    "        if filesize < io.DEFAULT_BUFFER_SIZE:\n",
    "            with open(file, \"rb\") as afile:\n",
    "                text = afile.read()\n",
    "                cipherdata = cipher_suite.encrypt(text)\n",
    "            with open(encfile, \"wb\") as wfile:\n",
    "                wfile.write(cipherdata)\n",
    "        else:\n",
    "            \"\"\"Pedding to define cuando un archivo es mas grande q el buffer\n",
    "            agregamos los separadores a los archvios\"\"\"\n",
    "            #print(\"archivo mas grande que el buffer inyectando metadata\")\n",
    "            with open(file, \"rb\") as afile:\n",
    "                while True:\n",
    "                    x = afile.read(NF)\n",
    "                    if not x:\n",
    "                        break\n",
    "                    else:\n",
    "                        with open(encfile,\"ab\") as wfile:\n",
    "                            buff = file_h + x + file_e\n",
    "                            wfile.write(buff)\n",
    "                            B+=len(x)\n",
    "            print(B)\n",
    "    except Exception as e:\n",
    "        print(\"Archivo no encontrado\", e)"
   ]
  },
  {
   "cell_type": "markdown",
   "metadata": {},
   "source": [
    "Cambiar la función cuando el archivo es demasiado grande no se puede descrifrar generar un codigo donde ddata += ddata"
   ]
  },
  {
   "cell_type": "code",
   "execution_count": 5,
   "metadata": {},
   "outputs": [],
   "source": [
    "def DecryptFile(encfile, recfile=\"reconsfile.txt\"):\n",
    "    ddata=None\n",
    "    error = False\n",
    "    filesize = os.path.getsize(encfile)\n",
    "    if filesize < io.DEFAULT_BUFFER_SIZE:\n",
    "        with open(encfile,\"rb\") as d:\n",
    "            r = d.read()\n",
    "            print(\"Descifrando\")\n",
    "            ddata=cipher_suite.decrypt(r)\n",
    "            print(ddata)\n",
    "    else:\n",
    "        print(\"Just decrypting\")\n",
    "        try:\n",
    "            encfile = open(encfile, \"rb\")\n",
    "            rfile = open(recfile, \"wb\")\n",
    "            while True:\n",
    "                print(\"While true\")\n",
    "                headers = encfile.read(len(file_h))\n",
    "                if headers != file_h or not headers:\n",
    "                    error = True\n",
    "                    print(\"Saliendo 1\")\n",
    "                data = encfile.read(NC)\n",
    "                if not data:\n",
    "                    error = True\n",
    "                    print(\"Saliendo 2\")\n",
    "                footer = encfile.read(len(file_e))\n",
    "                if footer != file_e or not footer:\n",
    "                    error = True\n",
    "                    print(\"Saliendo 3\")\n",
    "                if error == True:\n",
    "                    print(\"Saliendo 4\")\n",
    "                    break\n",
    "                else:\n",
    "                    print(\"No hubo errores\")\n",
    "                    break\n",
    "        except:\n",
    "            print(\"ERROR\")\n",
    "        finally:\n",
    "            encfile.close()\n",
    "            rfile.close()"
   ]
  },
  {
   "cell_type": "code",
   "execution_count": 6,
   "metadata": {},
   "outputs": [
    {
     "name": "stdout",
     "output_type": "stream",
     "text": [
      "b'A really secret message. Not for prying eyes.'\n"
     ]
    }
   ],
   "source": [
    "plain_text = cipher_suite.decrypt(cipher_text)\n",
    "print(plain_text)"
   ]
  },
  {
   "cell_type": "code",
   "execution_count": 7,
   "metadata": {},
   "outputs": [],
   "source": [
    "! echo \"The GPGME Python bindings provide Pythonic access to GPG Made Easy, a C API for the entire GNU Privacy Guard suite of projects, including GPG, libgcrypt, and gpgsm (the S/MIME engine). It supports Python 2.6, 2.7, 3.4, and above. Depends on the SWIG C interface for Python as well as the GnuPG software and libraries.\" >> rawfile.txt"
   ]
  },
  {
   "cell_type": "markdown",
   "metadata": {},
   "source": [
    "Si es archivo es mas pequeño q io.defaultbuffersize lo encriptamos en directo si no tendremos que leer varios pedazos del mismo e ir generando el nuevo archivo"
   ]
  },
  {
   "cell_type": "code",
   "execution_count": 8,
   "metadata": {},
   "outputs": [
    {
     "name": "stdout",
     "output_type": "stream",
     "text": [
      "cyber-security-report-2020.pdf\n",
      "encfile.enc\n",
      "cyber-security-report-2020.pdf\n",
      "14770146\n"
     ]
    }
   ],
   "source": [
    "print(inputfile)\n",
    "print(outputfile)\n",
    "EncFunction(inputfile, outputfile)"
   ]
  },
  {
   "cell_type": "code",
   "execution_count": 9,
   "metadata": {
    "scrolled": true
   },
   "outputs": [
    {
     "name": "stdout",
     "output_type": "stream",
     "text": [
      "cd0b003e73217ec91a9e64f4be73f22c  cyber-security-report-2020.pdf\r\n"
     ]
    }
   ],
   "source": [
    "! md5sum cyber-security-report-2020.pdf"
   ]
  },
  {
   "cell_type": "code",
   "execution_count": 10,
   "metadata": {},
   "outputs": [
    {
     "name": "stdout",
     "output_type": "stream",
     "text": [
      "Just decrypting\n",
      "While true\n",
      "ERROR\n"
     ]
    }
   ],
   "source": [
    "DecryptFile(outputfile)"
   ]
  },
  {
   "cell_type": "code",
   "execution_count": null,
   "metadata": {},
   "outputs": [],
   "source": []
  }
 ],
 "metadata": {
  "kernelspec": {
   "display_name": "Python 3",
   "language": "python",
   "name": "python3"
  },
  "language_info": {
   "codemirror_mode": {
    "name": "ipython",
    "version": 3
   },
   "file_extension": ".py",
   "mimetype": "text/x-python",
   "name": "python",
   "nbconvert_exporter": "python",
   "pygments_lexer": "ipython3",
   "version": "3.5.3"
  }
 },
 "nbformat": 4,
 "nbformat_minor": 4
}
